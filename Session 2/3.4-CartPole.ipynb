{
  "nbformat": 4,
  "nbformat_minor": 0,
  "metadata": {
    "colab": {
      "provenance": [],
      "authorship_tag": "ABX9TyOHnzZKYdf9yiq+5qVA8NlO",
      "include_colab_link": true
    },
    "kernelspec": {
      "name": "python3",
      "display_name": "Python 3"
    },
    "language_info": {
      "name": "python"
    }
  },
  "cells": [
    {
      "cell_type": "markdown",
      "metadata": {
        "id": "view-in-github",
        "colab_type": "text"
      },
      "source": [
        "<a href=\"https://colab.research.google.com/github/Luke-687/Chemotaxis-Project-With-RL/blob/main/3_4_Cart_Pole.ipynb\" target=\"_parent\"><img src=\"https://colab.research.google.com/assets/colab-badge.svg\" alt=\"Open In Colab\"/></a>"
      ]
    },
    {
      "cell_type": "code",
      "execution_count": 37,
      "metadata": {
        "colab": {
          "base_uri": "https://localhost:8080/"
        },
        "id": "uHeaaMT86Tr_",
        "outputId": "6a4a437d-3232-4e7c-88d6-7bdb4b541f1c"
      },
      "outputs": [
        {
          "output_type": "stream",
          "name": "stdout",
          "text": [
            "Requirement already satisfied: gymnasium in /usr/local/lib/python3.11/dist-packages (1.1.1)\n",
            "Requirement already satisfied: pygame in /usr/local/lib/python3.11/dist-packages (2.6.1)\n",
            "Requirement already satisfied: numpy in /usr/local/lib/python3.11/dist-packages (2.0.2)\n",
            "Requirement already satisfied: matplotlib in /usr/local/lib/python3.11/dist-packages (3.10.0)\n",
            "Requirement already satisfied: cloudpickle>=1.2.0 in /usr/local/lib/python3.11/dist-packages (from gymnasium) (3.1.1)\n",
            "Requirement already satisfied: typing-extensions>=4.3.0 in /usr/local/lib/python3.11/dist-packages (from gymnasium) (4.14.0)\n",
            "Requirement already satisfied: farama-notifications>=0.0.1 in /usr/local/lib/python3.11/dist-packages (from gymnasium) (0.0.4)\n",
            "Requirement already satisfied: contourpy>=1.0.1 in /usr/local/lib/python3.11/dist-packages (from matplotlib) (1.3.2)\n",
            "Requirement already satisfied: cycler>=0.10 in /usr/local/lib/python3.11/dist-packages (from matplotlib) (0.12.1)\n",
            "Requirement already satisfied: fonttools>=4.22.0 in /usr/local/lib/python3.11/dist-packages (from matplotlib) (4.58.4)\n",
            "Requirement already satisfied: kiwisolver>=1.3.1 in /usr/local/lib/python3.11/dist-packages (from matplotlib) (1.4.8)\n",
            "Requirement already satisfied: packaging>=20.0 in /usr/local/lib/python3.11/dist-packages (from matplotlib) (24.2)\n",
            "Requirement already satisfied: pillow>=8 in /usr/local/lib/python3.11/dist-packages (from matplotlib) (11.2.1)\n",
            "Requirement already satisfied: pyparsing>=2.3.1 in /usr/local/lib/python3.11/dist-packages (from matplotlib) (3.2.3)\n",
            "Requirement already satisfied: python-dateutil>=2.7 in /usr/local/lib/python3.11/dist-packages (from matplotlib) (2.9.0.post0)\n",
            "Requirement already satisfied: six>=1.5 in /usr/local/lib/python3.11/dist-packages (from python-dateutil>=2.7->matplotlib) (1.17.0)\n"
          ]
        }
      ],
      "source": [
        "!pip install gymnasium pygame numpy matplotlib"
      ]
    },
    {
      "cell_type": "code",
      "source": [
        "import gymnasium as gym\n",
        "import numpy as np\n",
        "import matplotlib.pyplot as plt\n",
        "from collections import defaultdict"
      ],
      "metadata": {
        "id": "ZSHKq-ElpPD6"
      },
      "execution_count": 38,
      "outputs": []
    },
    {
      "cell_type": "code",
      "source": [
        "#Establish environment\n",
        "env = gym.make('CartPole-v1', render_mode = None)\n",
        "\n",
        "#Establish bounds of environemtn\n",
        "def boundaries():\n",
        "  bounds = [\n",
        "      np.linspace(-4.8,4.8,10), #Cart Pos.\n",
        "      np.linspace(-4,4,10), #cart vel.\n",
        "      np.linspace(-0.5, 0.5, 10), #Pole ang.\n",
        "      np.linspace(-4,4,10) #Pole vel. at tip\n",
        "  ]\n",
        "  return bounds\n",
        "\n",
        "def discretize(obs, bins):\n",
        "    return tuple(int(np.digitize(x, b) - 1) for x, b in zip(obs, bins))\n",
        "\n",
        "#Begin to set up MDP\n",
        "actions = env.action_space.n\n",
        "bins = boundaries()\n",
        "gamma = 0.99\n",
        "theta = 0.01\n",
        "\n",
        "V = defaultdict(float)\n",
        "policy = {}\n",
        "\n",
        "def optimize():\n",
        "  iterations = 0\n",
        "  for i in range(0,10):\n",
        "    for j in range(0,10):\n",
        "      for k in range(0,10):\n",
        "        for l in range(0,10):\n",
        "          #d tracks convergence\n",
        "          d = 0\n",
        "          state = (i,j,k,l)\n",
        "          v = V[state]\n",
        "          max_value = float('-inf')\n",
        "          bestAct = 0\n",
        "          for a in range(actions):\n",
        "            total = 0\n",
        "            for z in range(5):\n",
        "              obs = [\n",
        "                    (bins[0][i] + bins[0][min(i+1, 9)]) / 2,\n",
        "                    (bins[1][j] + bins[1][min(j+1, 9)]) / 2,\n",
        "                    (bins[2][k] + bins[2][min(k+1, 9)]) / 2,\n",
        "                    (bins[3][l] + bins[3][min(l+1, 9)]) / 2\n",
        "                    ]\n",
        "              env.reset()\n",
        "              env.unwrapped.state = np.array(obs)\n",
        "              obs, reward, terminated, truncated, _ = env.step(a)\n",
        "              done = terminated or truncated\n",
        "              disc_obs = discretize(obs, bins)\n",
        "              total += reward + gamma * V[disc_obs] * (0 if done else 1)\n",
        "            total/=5\n",
        "            if total>max_value:\n",
        "              max_value = total\n",
        "              bestAct = a\n",
        "          V[state] = max_value\n",
        "          policy[state] = bestAct\n",
        "          d = max(d, abs(v-max_value))\n",
        "          iterations+=1\n",
        "    if theta>d:\n",
        "      break\n",
        "  return V, policy"
      ],
      "metadata": {
        "id": "bdi7bMZzybtI"
      },
      "execution_count": 66,
      "outputs": []
    },
    {
      "cell_type": "code",
      "source": [
        "V,policy = optimize()"
      ],
      "metadata": {
        "colab": {
          "base_uri": "https://localhost:8080/"
        },
        "id": "foypSWMLWxPw",
        "outputId": "54c60025-819c-4559-c9d9-dd95277ce86c"
      },
      "execution_count": 67,
      "outputs": [
        {
          "output_type": "stream",
          "name": "stderr",
          "text": [
            "/usr/local/lib/python3.11/dist-packages/gymnasium/utils/passive_env_checker.py:158: UserWarning: \u001b[33mWARN: The obs returned by the `step()` method is not within the observation space.\u001b[0m\n",
            "  logger.warn(f\"{pre} is not within the observation space.\")\n"
          ]
        }
      ]
    },
    {
      "cell_type": "code",
      "source": [
        "for state, value in V.items():\n",
        "    print(f\"State: {state}, Value: {value}\")"
      ],
      "metadata": {
        "id": "crVVR5-beBTC"
      },
      "execution_count": null,
      "outputs": []
    },
    {
      "cell_type": "code",
      "source": [
        "def run_episode(render=False):\n",
        "    obs, _ = env.reset()\n",
        "    total_reward = 0\n",
        "\n",
        "    for t in range(500):  # max episode length in CartPole\n",
        "        state = discretize(obs, bins)\n",
        "        action = policy.get(state, env.action_space.sample())  # fallback to random if unseen\n",
        "        obs, reward, terminated, truncated, _ = env.step(action)\n",
        "        total_reward += reward\n",
        "        if render:\n",
        "            env.render()\n",
        "        if terminated or truncated:\n",
        "            break\n",
        "\n",
        "    return total_reward"
      ],
      "metadata": {
        "id": "xx-9S4Dtgvjl"
      },
      "execution_count": 68,
      "outputs": []
    },
    {
      "cell_type": "code",
      "source": [
        "scores = [run_episode(render=False) for _ in range(100)]\n",
        "print(f\"Average Reward over 100 episodes: {np.mean(scores)}\")\n",
        "print(f\"Max Reward: {np.max(scores)}\")\n",
        "print(f\"Min Reward: {np.min(scores)}\")"
      ],
      "metadata": {
        "colab": {
          "base_uri": "https://localhost:8080/"
        },
        "id": "XHGg3qktgwqb",
        "outputId": "aa87b778-332b-444d-f4e3-2fa3d475fda0"
      },
      "execution_count": 69,
      "outputs": [
        {
          "output_type": "stream",
          "name": "stdout",
          "text": [
            "Average Reward over 100 episodes: 9.28\n",
            "Max Reward: 11.0\n",
            "Min Reward: 8.0\n"
          ]
        }
      ]
    },
    {
      "cell_type": "code",
      "source": [
        "#Sim is from chat gpt\n",
        "\n",
        "import matplotlib.pyplot as plt\n",
        "import numpy as np\n",
        "import time\n",
        "from IPython.display import clear_output\n",
        "\n",
        "def draw_cartpole(cart_position, pole_angle):\n",
        "    fig, ax = plt.subplots(figsize=(6, 3))\n",
        "    ax.set_xlim(-2.5, 2.5)\n",
        "    ax.set_ylim(-1, 1.5)\n",
        "\n",
        "    # Draw cart\n",
        "    cart_width = 0.4\n",
        "    cart_height = 0.2\n",
        "    cart = plt.Rectangle((cart_position - cart_width / 2, 0), cart_width, cart_height, fc='black')\n",
        "    ax.add_patch(cart)\n",
        "\n",
        "    # Draw pole\n",
        "    pole_length = 1.0\n",
        "    pole_x = cart_position + pole_length * np.sin(pole_angle)\n",
        "    pole_y = cart_height + pole_length * np.cos(pole_angle)\n",
        "    ax.plot([cart_position, pole_x], [cart_height, pole_y], lw=3, color='blue')\n",
        "\n",
        "    # Draw ground\n",
        "    ax.axhline(0, color='gray', lw=2)\n",
        "\n",
        "    ax.set_title(\"CartPole Simulation\")\n",
        "    ax.axis('off')\n",
        "    plt.show()\n",
        "\n",
        "def run_visual_episode(env, policy, bins, delay=0.05):\n",
        "    obs, _ = env.reset()\n",
        "    total_reward = 0\n",
        "    for _ in range(500):\n",
        "        clear_output(wait=True)\n",
        "        cart_pos = obs[0]\n",
        "        pole_ang = obs[2]\n",
        "        draw_cartpole(cart_pos, pole_ang)\n",
        "\n",
        "        state = discretize(obs, bins)\n",
        "        action = policy.get(state, env.action_space.sample())\n",
        "        obs, reward, terminated, truncated, _ = env.step(action)\n",
        "        total_reward += reward\n",
        "        if terminated or truncated:\n",
        "            break\n",
        "        time.sleep(delay)\n",
        "    print(f\"Total reward: {total_reward}\")"
      ],
      "metadata": {
        "id": "UbvPClhnhTwy"
      },
      "execution_count": 70,
      "outputs": []
    },
    {
      "cell_type": "code",
      "source": [
        "run_visual_episode(env, policy, bins, delay=0.1)"
      ],
      "metadata": {
        "colab": {
          "base_uri": "https://localhost:8080/",
          "height": 307
        },
        "id": "venShY6ShVBh",
        "outputId": "9dc8eec1-50ea-4a19-feb3-6969f5733120"
      },
      "execution_count": 78,
      "outputs": [
        {
          "output_type": "display_data",
          "data": {
            "text/plain": [
              "<Figure size 600x300 with 1 Axes>"
            ],
            "image/png": "[encoded data removed]"
          },
          "metadata": {}
        },
        {
          "output_type": "stream",
          "name": "stdout",
          "text": [
            "Total reward: 10.0\n"
          ]
        }
      ]
    }
  ]
}
